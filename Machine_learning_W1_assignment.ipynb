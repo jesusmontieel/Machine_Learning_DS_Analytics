{
 "cells": [
  {
   "cell_type": "markdown",
   "id": "ff939d57",
   "metadata": {},
   "source": [
    "# Machine Learning for Data Science and Analytics"
   ]
  },
  {
   "cell_type": "markdown",
   "id": "bcc85683",
   "metadata": {},
   "source": [
    "Week 1 - Algorithms"
   ]
  },
  {
   "cell_type": "markdown",
   "id": "64d503eb",
   "metadata": {},
   "source": [
    "Assignment:\n",
    "Suppose that you were investing in a stock that you could buy and sell once, and the daily values are (20, 66, 12, 48, 38, 38, 20, 65, 54). What is the maximum profit you could obtain?:"
   ]
  },
  {
   "cell_type": "code",
   "execution_count": 1,
   "id": "f58bbfa8",
   "metadata": {},
   "outputs": [],
   "source": [
    "daily_values = [20, 66, 12, 48, 38, 38, 20, 65, 54]\n",
    "a = 0\n",
    "profit = []\n",
    "for i in daily_values:\n",
    "    for j in range(1 + a, len(daily_values)):\n",
    "        profit.append(daily_values[j]-i)\n",
    "    a += 1"
   ]
  },
  {
   "cell_type": "code",
   "execution_count": 2,
   "id": "ba000123",
   "metadata": {},
   "outputs": [
    {
     "data": {
      "text/plain": [
       "53"
      ]
     },
     "execution_count": 2,
     "metadata": {},
     "output_type": "execute_result"
    }
   ],
   "source": [
    "# For maximum profit\n",
    "max(profit)"
   ]
  }
 ],
 "metadata": {
  "language_info": {
   "codemirror_mode": {
    "name": "ipython",
    "version": 3
   },
   "file_extension": ".py",
   "mimetype": "text/x-python",
   "name": "python",
   "nbconvert_exporter": "python",
   "pygments_lexer": "ipython3",
   "version": "3.9.7"
  }
 },
 "nbformat": 4,
 "nbformat_minor": 5
}
